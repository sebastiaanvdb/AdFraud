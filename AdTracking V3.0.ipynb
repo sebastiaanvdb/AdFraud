{
 "cells": [
  {
   "cell_type": "markdown",
   "metadata": {},
   "source": [
    "# AdTracking Fraud Detection Challange"
   ]
  },
  {
   "cell_type": "code",
   "execution_count": 2,
   "metadata": {
    "scrolled": true
   },
   "outputs": [
    {
     "name": "stderr",
     "output_type": "stream",
     "text": [
      "/anaconda/lib/python2.7/site-packages/sklearn/cross_validation.py:41: DeprecationWarning: This module was deprecated in version 0.18 in favor of the model_selection module into which all the refactored classes and functions are moved. Also note that the interface of the new CV iterators are different from that of this module. This module will be removed in 0.20.\n",
      "  \"This module will be removed in 0.20.\", DeprecationWarning)\n"
     ]
    }
   ],
   "source": [
    "# Importing modules\n",
    "import pandas as pd\n",
    "import numpy as np\n",
    "import matplotlib.pyplot as plt\n",
    "import time\n",
    "from sklearn.cross_validation import train_test_split\n",
    "import random"
   ]
  },
  {
   "cell_type": "code",
   "execution_count": null,
   "metadata": {},
   "outputs": [],
   "source": [
    "# Importing data\n",
    "dtypes = {'ip'            : 'uint32',\n",
    "          'app'           : 'uint16',\n",
    "          'device'        : 'uint16',\n",
    "          'os'            : 'uint16',\n",
    "          'channel'       : 'uint16',\n",
    "          'is_attributed' : 'uint8',\n",
    "          'click_id'      : 'uint32'\n",
    "          } \n",
    "\n",
    "#n = 200000000\n",
    "#s = 500000\n",
    "#skip = sorted(random.sample(xrange(n), n-s))\n",
    "train = pd.read_csv('/../../../Volumes/Data/train.csv',skiprows=range(1,129903891), nrows=500000, dtype=dtypes)\n",
    "#test = pd.read_csv(\"test.csv\", dtype=dtypes)\n",
    "print(train.shape)\n",
    "train.head()"
   ]
  },
  {
   "cell_type": "code",
   "execution_count": 3,
   "metadata": {},
   "outputs": [
    {
     "data": {
      "text/plain": [
       "ip                      0\n",
       "app                     0\n",
       "device                  0\n",
       "os                      0\n",
       "channel                 0\n",
       "click_time              0\n",
       "attributed_time    498995\n",
       "is_attributed           0\n",
       "dtype: int64"
      ]
     },
     "execution_count": 3,
     "metadata": {},
     "output_type": "execute_result"
    }
   ],
   "source": [
    "# Check missing data\n",
    "train.apply(lambda x: sum(x.isnull()))\n",
    "# attributed_time is NaN when the app isn't downloaded after clicking on the ad\n",
    "# https://www.kaggle.com/pranav84/xgboost-histogram-optimized-version/code\n",
    "# ==> here they don't use 'attributed_time'. What do you think?"
   ]
  },
  {
   "cell_type": "code",
   "execution_count": 4,
   "metadata": {},
   "outputs": [
    {
     "data": {
      "text/plain": [
       "ip                 30191\n",
       "app                  172\n",
       "device               156\n",
       "os                   137\n",
       "channel              151\n",
       "click_time           825\n",
       "attributed_time      924\n",
       "is_attributed          2\n",
       "dtype: int64"
      ]
     },
     "execution_count": 4,
     "metadata": {},
     "output_type": "execute_result"
    }
   ],
   "source": [
    "# Unique values\n",
    "train.apply(lambda x: len(x.unique()))"
   ]
  },
  {
   "cell_type": "code",
   "execution_count": 5,
   "metadata": {},
   "outputs": [
    {
     "data": {
      "text/plain": [
       "ip                 uint32\n",
       "app                uint16\n",
       "device             uint16\n",
       "os                 uint16\n",
       "channel            uint16\n",
       "click_time         object\n",
       "attributed_time    object\n",
       "is_attributed       uint8\n",
       "dtype: object"
      ]
     },
     "execution_count": 5,
     "metadata": {},
     "output_type": "execute_result"
    }
   ],
   "source": [
    "train.dtypes"
   ]
  },
  {
   "cell_type": "code",
   "execution_count": 6,
   "metadata": {
    "collapsed": true
   },
   "outputs": [],
   "source": [
    "# Extract day, hour and day of the week\n",
    "train['hour'] = pd.to_datetime(train.click_time).dt.hour.astype('uint8')\n",
    "train['day']  = pd.to_datetime(train.click_time).dt.day.astype('uint8')\n",
    "train['dow']  = pd.to_datetime(train.click_time).dt.dayofweek.astype('uint8')"
   ]
  },
  {
   "cell_type": "code",
   "execution_count": 7,
   "metadata": {
    "collapsed": true
   },
   "outputs": [],
   "source": [
    "# # of clicks for each ip-day-hour combination\n",
    "gp = train[['ip','day','hour','channel']].groupby(by=['ip','day','hour'])[['channel']].count().reset_index().rename(index=str, columns={'channel': 'qty'})\n",
    "train = train.merge(gp, on=['ip','day','hour'], how='left')\n",
    "del gp"
   ]
  },
  {
   "cell_type": "code",
   "execution_count": 8,
   "metadata": {
    "collapsed": true
   },
   "outputs": [],
   "source": [
    "# # of clicks for each ip-app combination\n",
    "gp = train[['ip','app', 'channel']].groupby(by=['ip', 'app'])[['channel']].count().reset_index().rename(index=str, columns={'channel': 'ip_app_count'})\n",
    "train = train.merge(gp, on=['ip','app'], how='left')\n",
    "del gp"
   ]
  },
  {
   "cell_type": "code",
   "execution_count": 9,
   "metadata": {
    "collapsed": true
   },
   "outputs": [],
   "source": [
    "# Count the number of clicks by ip\n",
    "ip_count = train.groupby(['ip'])['channel'].count().reset_index()\n",
    "ip_count.columns = ['ip', 'clicks_by_ip']\n",
    "train = pd.merge(train, ip_count, on='ip', how='left', sort=False)\n",
    "train['clicks_by_ip'] = train['clicks_by_ip'].astype('uint16')"
   ]
  },
  {
   "cell_type": "code",
   "execution_count": 10,
   "metadata": {},
   "outputs": [
    {
     "name": "stdout",
     "output_type": "stream",
     "text": [
      "<class 'pandas.core.frame.DataFrame'>\n",
      "Int64Index: 500000 entries, 0 to 499999\n",
      "Data columns (total 10 columns):\n",
      "app              500000 non-null uint16\n",
      "device           500000 non-null uint16\n",
      "os               500000 non-null uint16\n",
      "channel          500000 non-null uint16\n",
      "is_attributed    500000 non-null uint8\n",
      "hour             500000 non-null uint8\n",
      "dow              500000 non-null uint8\n",
      "qty              500000 non-null uint16\n",
      "ip_app_count     500000 non-null uint16\n",
      "clicks_by_ip     500000 non-null uint16\n",
      "dtypes: uint16(7), uint8(3)\n",
      "memory usage: 11.9 MB\n"
     ]
    }
   ],
   "source": [
    "# Delete columns we don't need\n",
    "train.drop(['ip'], axis=1, inplace=True)\n",
    "train.drop(['day'], axis=1, inplace=True)\n",
    "train.drop(['click_time'], axis=1, inplace=True)\n",
    "train.drop(['attributed_time'], axis=1, inplace=True)\n",
    "\n",
    "#change features to 'uint16'\n",
    "train['qty'] = train['qty'].astype('uint16')\n",
    "train['ip_app_count'] = train['ip_app_count'].astype('uint16')\n",
    "\n",
    "train.info()"
   ]
  },
  {
   "cell_type": "code",
   "execution_count": 11,
   "metadata": {},
   "outputs": [
    {
     "data": {
      "text/html": [
       "<div>\n",
       "<table border=\"1\" class=\"dataframe\">\n",
       "  <thead>\n",
       "    <tr style=\"text-align: right;\">\n",
       "      <th></th>\n",
       "      <th>app</th>\n",
       "      <th>device</th>\n",
       "      <th>os</th>\n",
       "      <th>channel</th>\n",
       "      <th>is_attributed</th>\n",
       "      <th>hour</th>\n",
       "      <th>dow</th>\n",
       "      <th>qty</th>\n",
       "      <th>ip_app_count</th>\n",
       "      <th>clicks_by_ip</th>\n",
       "    </tr>\n",
       "  </thead>\n",
       "  <tbody>\n",
       "    <tr>\n",
       "      <th>0</th>\n",
       "      <td>12</td>\n",
       "      <td>1</td>\n",
       "      <td>13</td>\n",
       "      <td>245</td>\n",
       "      <td>0</td>\n",
       "      <td>23</td>\n",
       "      <td>2</td>\n",
       "      <td>37</td>\n",
       "      <td>15</td>\n",
       "      <td>37</td>\n",
       "    </tr>\n",
       "    <tr>\n",
       "      <th>1</th>\n",
       "      <td>13</td>\n",
       "      <td>1</td>\n",
       "      <td>17</td>\n",
       "      <td>477</td>\n",
       "      <td>0</td>\n",
       "      <td>23</td>\n",
       "      <td>2</td>\n",
       "      <td>223</td>\n",
       "      <td>9</td>\n",
       "      <td>223</td>\n",
       "    </tr>\n",
       "    <tr>\n",
       "      <th>2</th>\n",
       "      <td>26</td>\n",
       "      <td>1</td>\n",
       "      <td>19</td>\n",
       "      <td>121</td>\n",
       "      <td>0</td>\n",
       "      <td>23</td>\n",
       "      <td>2</td>\n",
       "      <td>12</td>\n",
       "      <td>1</td>\n",
       "      <td>12</td>\n",
       "    </tr>\n",
       "    <tr>\n",
       "      <th>3</th>\n",
       "      <td>3</td>\n",
       "      <td>1</td>\n",
       "      <td>13</td>\n",
       "      <td>452</td>\n",
       "      <td>0</td>\n",
       "      <td>23</td>\n",
       "      <td>2</td>\n",
       "      <td>48</td>\n",
       "      <td>5</td>\n",
       "      <td>48</td>\n",
       "    </tr>\n",
       "    <tr>\n",
       "      <th>4</th>\n",
       "      <td>18</td>\n",
       "      <td>1</td>\n",
       "      <td>19</td>\n",
       "      <td>134</td>\n",
       "      <td>0</td>\n",
       "      <td>23</td>\n",
       "      <td>2</td>\n",
       "      <td>16</td>\n",
       "      <td>1</td>\n",
       "      <td>16</td>\n",
       "    </tr>\n",
       "  </tbody>\n",
       "</table>\n",
       "</div>"
      ],
      "text/plain": [
       "   app  device  os  channel  is_attributed  hour  dow  qty  ip_app_count  \\\n",
       "0   12       1  13      245              0    23    2   37            15   \n",
       "1   13       1  17      477              0    23    2  223             9   \n",
       "2   26       1  19      121              0    23    2   12             1   \n",
       "3    3       1  13      452              0    23    2   48             5   \n",
       "4   18       1  19      134              0    23    2   16             1   \n",
       "\n",
       "   clicks_by_ip  \n",
       "0            37  \n",
       "1           223  \n",
       "2            12  \n",
       "3            48  \n",
       "4            16  "
      ]
     },
     "execution_count": 11,
     "metadata": {},
     "output_type": "execute_result"
    }
   ],
   "source": [
    "train.head()\n",
    "#print(train[train['is_attributed'] != 0])"
   ]
  },
  {
   "cell_type": "code",
   "execution_count": 12,
   "metadata": {},
   "outputs": [
    {
     "name": "stdout",
     "output_type": "stream",
     "text": [
      "((500000, 9), (500000,))\n"
     ]
    }
   ],
   "source": [
    "X = train.drop('is_attributed', axis=1)\n",
    "#y = pd.DataFrame(data=train['is_attributed'])\n",
    "y = train['is_attributed']\n",
    "\n",
    "\n",
    "print(X.shape, y.shape)"
   ]
  },
  {
   "cell_type": "code",
   "execution_count": 13,
   "metadata": {},
   "outputs": [
    {
     "name": "stdout",
     "output_type": "stream",
     "text": [
      "accuracy on training set: 0.998336\n",
      "accuracy on test set: 0.998080\n",
      "[[124677     45]\n",
      " [   195     83]]\n"
     ]
    }
   ],
   "source": [
    "# Gradient Boosting Machines\n",
    "from sklearn.ensemble import GradientBoostingClassifier\n",
    "from sklearn.metrics import confusion_matrix\n",
    "\n",
    "X_train, X_test, y_train, y_test = train_test_split(X, y, random_state=0)\n",
    "\n",
    "gbrt = GradientBoostingClassifier(random_state=0)\n",
    "gbrt.fit(X_train, y_train)\n",
    "\n",
    "y_pred = gbrt.predict(X_test)\n",
    "cm_gbrt = confusion_matrix(y_test, y_pred)\n",
    "\n",
    "print('accuracy on training set: %f' % gbrt.score(X_train, y_train))\n",
    "print('accuracy on test set: %f' % gbrt.score(X_test, y_test))\n",
    "print(cm_gbrt)\n"
   ]
  },
  {
   "cell_type": "code",
   "execution_count": 14,
   "metadata": {},
   "outputs": [
    {
     "data": {
      "text/plain": [
       "([<matplotlib.axis.XTick at 0x1174b67d0>,\n",
       "  <matplotlib.axis.XTick at 0x11748ffd0>,\n",
       "  <matplotlib.axis.XTick at 0x11100ccd0>,\n",
       "  <matplotlib.axis.XTick at 0x115065a50>,\n",
       "  <matplotlib.axis.XTick at 0x115095190>,\n",
       "  <matplotlib.axis.XTick at 0x115095890>,\n",
       "  <matplotlib.axis.XTick at 0x115095f90>,\n",
       "  <matplotlib.axis.XTick at 0x11509f6d0>,\n",
       "  <matplotlib.axis.XTick at 0x11509fdd0>],\n",
       " <a list of 9 Text xticklabel objects>)"
      ]
     },
     "execution_count": 14,
     "metadata": {},
     "output_type": "execute_result"
    },
    {
     "data": {
      "image/png": "[encoded data removed]",
      "text/plain": [
       "<matplotlib.figure.Figure at 0x11455d390>"
      ]
     },
     "metadata": {},
     "output_type": "display_data"
    }
   ],
   "source": [
    "%matplotlib inline\n",
    "plt.plot(gbrt.feature_importances_, 'o')\n",
    "plt.xticks(range(X.shape[1]), X.columns.values, rotation=90)\n"
   ]
  },
  {
   "cell_type": "code",
   "execution_count": 35,
   "metadata": {
    "collapsed": true
   },
   "outputs": [],
   "source": [
    "# Light GBM\n",
    "import lightgbm as lgb\n",
    "\n",
    "d_train = lgb.Dataset(X_train, label=y_train)\n",
    "#params = {}\n",
    "#params['learning_rate'] = 0.003\n",
    "#params['boosting_type'] = 'gbdt'\n",
    "#params['objective'] = 'binary'\n",
    "#params['metric'] = 'auc'\n",
    "#params['sub_feature'] = 0.5\n",
    "#params['num_leaves'] = 50\n",
    "#params['min_data'] = 200\n",
    "#params['max_depth'] = 50\n",
    "#params['max_bin'] = 1000\n",
    "#params['categorical_feature'] = '0, 1, 2, 3, 4, 5'\n",
    "params = {\n",
    "    'boosting_type': 'gbdt',\n",
    "    'objective': 'binary',\n",
    "    'metric': 'auc',\n",
    "    'learning_rate': 0.05,\n",
    "    'num_leaves': 255,  \n",
    "    'max_depth': 9,  \n",
    "    'min_child_samples': 100,  \n",
    "    'max_bin': 100,  \n",
    "    'subsample': 0.7,  \n",
    "    'subsample_freq': 1,  \n",
    "    'colsample_bytree': 0.7,  \n",
    "    'min_child_weight': 0,  \n",
    "    'subsample_for_bin': 200000,  \n",
    "    'min_split_gain': 0,  \n",
    "    'reg_alpha': 0,  \n",
    "    'reg_lambda': 0,  \n",
    "   # 'nthread': 8,\n",
    "    'verbose': 0,\n",
    "    'is_unbalance': True\n",
    "    #'scale_pos_weight':99 \n",
    "    }\n",
    "clf = lgb.train(params, d_train, 1000)"
   ]
  },
  {
   "cell_type": "code",
   "execution_count": 36,
   "metadata": {
    "collapsed": true
   },
   "outputs": [],
   "source": [
    "\n",
    "\n",
    "#Prediction\n",
    "y_pred = clf.predict(X_test)\n",
    "#convert into binary values\n",
    "for i in range(0, 125000):\n",
    "    if y_pred[i]>=.5:       # setting threshold to .5\n",
    "        y_pred[i]=1\n",
    "    else:  \n",
    "        y_pred[i]=0\n"
   ]
  },
  {
   "cell_type": "code",
   "execution_count": 37,
   "metadata": {},
   "outputs": [
    {
     "name": "stdout",
     "output_type": "stream",
     "text": [
      "             precision    recall  f1-score   support\n",
      "\n",
      "          0       1.00      0.96      0.98    124722\n",
      "          1       0.03      0.53      0.05       278\n",
      "\n",
      "avg / total       1.00      0.96      0.98    125000\n",
      "\n",
      "[[119744   4978]\n",
      " [   130    148]]\n",
      "test: 0.959136\n"
     ]
    }
   ],
   "source": [
    "# classification report\n",
    "from sklearn.metrics import classification_report\n",
    "target_names = ['0', '1']\n",
    "print(classification_report(y_test, y_pred, target_names=target_names))\n",
    "#Confusion matrix\n",
    "from sklearn.metrics import confusion_matrix\n",
    "\n",
    "cm_clf = confusion_matrix(y_test, y_pred)\n",
    "print(cm_clf)\n",
    "#Accuracy\n",
    "from sklearn.metrics import accuracy_score\n",
    "accuracy = accuracy_score(y_pred,y_test)\n",
    "print('test: %f' % accuracy)"
   ]
  },
  {
   "cell_type": "code",
   "execution_count": 34,
   "metadata": {
    "scrolled": true
   },
   "outputs": [
    {
     "data": {
      "text/plain": [
       "<matplotlib.axes._subplots.AxesSubplot at 0x116cea6d0>"
      ]
     },
     "execution_count": 34,
     "metadata": {},
     "output_type": "execute_result"
    },
    {
     "data": {
      "image/png": "[encoded data removed]",
      "text/plain": [
       "<matplotlib.figure.Figure at 0x117c781d0>"
      ]
     },
     "metadata": {},
     "output_type": "display_data"
    }
   ],
   "source": [
    "lgb.plot_importance(clf)"
   ]
  }
 ],
 "metadata": {
  "kernelspec": {
   "display_name": "Python 2",
   "language": "python",
   "name": "python2"
  },
  "language_info": {
   "codemirror_mode": {
    "name": "ipython",
    "version": 2
   },
   "file_extension": ".py",
   "mimetype": "text/x-python",
   "name": "python",
   "nbconvert_exporter": "python",
   "pygments_lexer": "ipython2",
   "version": "2.7.13"
  }
 },
 "nbformat": 4,
 "nbformat_minor": 2
}
